{
 "cells": [
  {
   "cell_type": "code",
   "execution_count": null,
   "metadata": {},
   "outputs": [],
   "source": [
    "import os\n",
    "import numpy as np\n",
    "import pandas as pd\n",
    "\n",
    "from loguru import logger"
   ]
  },
  {
   "cell_type": "markdown",
   "metadata": {},
   "source": [
    "# Primary Filterings"
   ]
  },
  {
   "cell_type": "code",
   "execution_count": null,
   "metadata": {},
   "outputs": [],
   "source": [
    "all_patient_info = pd.read_csv(\"../data/metadata/patient_information_113528_19-9-2024.csv\")\n",
    "normality_data = pd.read_csv(\"../data/metadata/report_42462_normal_heart_great_vessels.csv\")\n",
    "\n",
    "# --- filter only the studies with normal heart and great vessels\n",
    "normality_data = normality_data[normality_data[\"isnormal\"] == \"Yes\"]\n",
    "normal_studies = list(normality_data[\"study_id\"])\n",
    "\n",
    "# --- normal data should overlap with patient info\n",
    "patient_info = all_patient_info[all_patient_info[\"Study ID\"].isin(normal_studies)]\n",
    "\n",
    "# --- research consent should be True\n",
    "patient_info = patient_info[patient_info[\"Research Consent\"] == \"1\"]\n",
    "\n",
    "# --- remove na values\n",
    "patient_info.dropna(subset=['Age', 'Height', 'Sex', 'Weight', 'Ethnicity'], inplace=True)\n",
    "patient_info.reset_index(drop=True, inplace=True)\n",
    "\n",
    "# --- filter based on heght and weight\n",
    "patient_info = patient_info[patient_info[\"Height\"] < 2.3]\n",
    "patient_info = patient_info[patient_info[\"Height\"] > 1.0]\n",
    "\n",
    "patient_info = patient_info[patient_info[\"Weight\"] < 180]\n",
    "patient_info = patient_info[patient_info[\"Weight\"] > 30]\n",
    "\n",
    "# ignore ages < 20 and ages >= 80\n",
    "patient_info = patient_info[patient_info[\"Age\"] >= 20]\n",
    "patient_info = patient_info[patient_info[\"Age\"] < 80]\n",
    "\n",
    "\n",
    "# --- adding the age group\n",
    "bins = list(range(10, 90, 10)) + [np.inf]\n",
    "labels = [f\"{i}-{i+9}\" for i in bins[:-2]] + ['80+']\n",
    "patient_info['Age Group'] = pd.cut(patient_info['Age'], bins=bins, labels=labels, right=False)\n",
    "\n",
    "# --- print some output\n",
    "logger.info(\"Number of all filtered patients:\" + str(len(patient_info)) + \"\\n\")\n",
    "logger.info(\"Patient info head:\\n\" + patient_info.head().to_string() + \"\\n\")\n",
    "logger.info(\"Subgroup counts:\\n\" + patient_info.groupby([\"Age Group\", \"Sex\"]).size().to_string() + \"\\n\")"
   ]
  },
  {
   "cell_type": "markdown",
   "metadata": {},
   "source": [
    "# Sample Train and Test data"
   ]
  },
  {
   "cell_type": "code",
   "execution_count": null,
   "metadata": {},
   "outputs": [],
   "source": [
    "def sample_by_age_sex(df, n_max=700, seed=42):\n",
    "    \"\"\"\n",
    "    Deterministically (with seed) sample patients based on Age Group and Sex.\n",
    "    For each (Age Group, Sex) group, return min(n_max, 75% of group size), shuffled with seed.\n",
    "\n",
    "    Parameters:\n",
    "        df (pd.DataFrame): Input DataFrame with 'Age Group', 'Sex', and 'Patient ID' columns.\n",
    "        n_max (int): Max number of samples per group. Default is 700.\n",
    "        seed (int): Random seed for reproducibility. Default is 42.\n",
    "\n",
    "    Returns:\n",
    "        pd.DataFrame: Sampled DataFrame.\n",
    "    \"\"\"\n",
    "    # Shuffle dataframe with the given seed\n",
    "    df_shuffled = df.sample(frac=1, random_state=seed).reset_index(drop=True)\n",
    "\n",
    "    # Group by Age Group and Sex\n",
    "    grouped = df_shuffled.groupby(['Age Group', 'Sex'])\n",
    "\n",
    "    # Sampling function\n",
    "    def custom_sample(group):\n",
    "        n = min(n_max, int(0.75 * len(group)))\n",
    "        return group.head(n)\n",
    "\n",
    "    # Apply sampling\n",
    "    sampled_df = grouped.apply(custom_sample).reset_index(drop=True)\n",
    "\n",
    "    return sampled_df\n"
   ]
  },
  {
   "cell_type": "code",
   "execution_count": null,
   "metadata": {},
   "outputs": [],
   "source": [
    "sample_train = sample_by_age_sex(patient_info)\n",
    "sample_train.to_csv(\"../data/samples/train_data.csv\", index=False)\n",
    "sample_train.groupby([\"Age Group\", \"Sex\"]).size()"
   ]
  },
  {
   "cell_type": "code",
   "execution_count": null,
   "metadata": {},
   "outputs": [],
   "source": [
    "df_train_excluded = patient_info[~patient_info[\"Study ID\"].isin(sample_train[\"Study ID\"])]\n",
    "sample_test = sample_by_age_sex(df_train_excluded, n_max=200, seed=42)\n",
    "sample_test.to_csv(\"../data/samples/test_data.csv\", index=False)\n",
    "sample_test.groupby([\"Age Group\", \"Sex\"]).size()"
   ]
  }
 ],
 "metadata": {
  "kernelspec": {
   "display_name": "heart_repo",
   "language": "python",
   "name": "python3"
  },
  "language_info": {
   "codemirror_mode": {
    "name": "ipython",
    "version": 3
   },
   "file_extension": ".py",
   "mimetype": "text/x-python",
   "name": "python",
   "nbconvert_exporter": "python",
   "pygments_lexer": "ipython3",
   "version": "3.8.20"
  }
 },
 "nbformat": 4,
 "nbformat_minor": 2
}
