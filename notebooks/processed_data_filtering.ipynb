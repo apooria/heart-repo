{
 "cells": [
  {
   "cell_type": "code",
   "execution_count": null,
   "metadata": {},
   "outputs": [],
   "source": [
    "import json\n",
    "import pickle as pkl\n",
    "import numpy as np\n",
    "import pandas as pd\n",
    "import statsmodels.api as sm"
   ]
  },
  {
   "cell_type": "markdown",
   "metadata": {},
   "source": [
    "# Volume Analysis\n",
    "Find mean volume values across sexes and age groups"
   ]
  },
  {
   "cell_type": "markdown",
   "metadata": {},
   "source": [
    "## Fit and save the regression model\n",
    "Predicted vatriable: **Volume**\n",
    "Independant: \n",
    "+ BMI\n",
    "+ Sex\n",
    "+ Age\n",
    "+ Weight"
   ]
  },
  {
   "cell_type": "code",
   "execution_count": null,
   "metadata": {},
   "outputs": [],
   "source": [
    "def remove_outliers_zscore(df, column=\"volume\", threshold=3, stats=None):\n",
    "    \"\"\"\n",
    "    Removes outliers from a dataframe based on the Z-score method.\n",
    "\n",
    "    Parameters:\n",
    "    df (pd.DataFrame): The input dataframe.\n",
    "    column (str): The name of the column to check for outliers.\n",
    "    threshold (float): The Z-score threshold to identify outliers (default is 3).\n",
    "\n",
    "    Returns:\n",
    "    pd.DataFrame: Dataframe without outliers.\n",
    "    pd.DataFrame: Dataframe containing only the outliers.\n",
    "    \"\"\"\n",
    "\n",
    "    # Calculate the Z-scores for the specified column\n",
    "    if stats:\n",
    "        mean_value = stats['mean']\n",
    "        std_value = stats['std']\n",
    "    else:\n",
    "        mean_value = df[column].mean()\n",
    "        std_value = df[column].std()\n",
    "    \n",
    "    df['z_score'] = (df[column] - mean_value) / std_value\n",
    "\n",
    "    # Identify outliers\n",
    "    df_cleaned = df[np.abs(df['z_score']) <= threshold]\n",
    "    df_large = df[df['z_score'] > threshold]\n",
    "    df_small = df[df['z_score'] < -threshold]\n",
    "\n",
    "\n",
    "    # Drop the z_score column before returning\n",
    "    df_cleaned = df_cleaned.drop(columns=['z_score'])\n",
    "    df_large = df_large.drop(columns=['z_score'])\n",
    "    df_small = df_small.drop(columns=['z_score'])\n",
    "\n",
    "    return df_cleaned, df_large, df_small"
   ]
  },
  {
   "cell_type": "code",
   "execution_count": null,
   "metadata": {},
   "outputs": [],
   "source": [
    "# tmp file for this job: metadata.csv from run_4_v2: data/dummy_regression.csv\n",
    "df = pd.read_csv('../data/metadata/dummy_regression.csv')\n",
    "\n",
    "# Fit the regression model\n",
    "df_clean = df.dropna()\n",
    "df_clean[\"BMI\"] = df_clean[\"Weight\"] / df_clean[\"Height\"] ** 2;\n",
    "X = df_clean[['Age', 'Sex', 'Weight', 'BMI']]\n",
    "X = sm.add_constant(X)  # Add intercept\n",
    "y = df_clean['volume']\n",
    "model = sm.OLS(y, X).fit()\n",
    "print(model.summary())\n",
    "\n",
    "# Save regression model\n",
    "with open(f'../data/regression_models/lm_volume.pkl', 'wb') as f:\n",
    "    pkl.dump(model, f)\n",
    "\n",
    "df_clean['predicted_volume'] = model.predict(X)\n",
    "df_clean['residuals'] = df_clean[\"volume\"] - df_clean['predicted_volume']\n",
    "\n",
    "# Save stats\n",
    "stats = {\n",
    "    'mean': df_clean['residuals'].mean(),\n",
    "    'std': df_clean['residuals'].std()\n",
    "}\n",
    "with open(f'../data/regression_models/lm_residual_stats.json', 'w') as f:\n",
    "    json.dump(stats, f)"
   ]
  },
  {
   "cell_type": "markdown",
   "metadata": {},
   "source": [
    "## Load linear model and filter data based on that"
   ]
  },
  {
   "cell_type": "code",
   "execution_count": null,
   "metadata": {},
   "outputs": [],
   "source": [
    "with open('../data/regression_models/lm_volume.pkl', 'rb') as f:\n",
    "    model = pkl.load(f)\n",
    "print(model.summary())\n",
    "\n",
    "with open(f'../data/regression_models/lm_residual_stats.json', 'r') as f:\n",
    "    stats = json.load(f)\n",
    "# === Read data based on dataset_id\n",
    "# df_clean = pd.read_csv(...)\n",
    "\n",
    "X = df_clean[['Age', 'Sex', 'Weight', 'BMI']]\n",
    "X = sm.add_constant(X) \n",
    "\n",
    "# filter based on volume\n",
    "df_clean['predicted_volume'] = model.predict(X)\n",
    "df_clean['residuals'] = df_clean[\"volume\"] - df_clean['predicted_volume']\n",
    "\n",
    "df_clean, df_large, df_small = remove_outliers_zscore(df_clean, column=\"residuals\", threshold=3, stats=stats)"
   ]
  },
  {
   "cell_type": "code",
   "execution_count": null,
   "metadata": {},
   "outputs": [],
   "source": [
    "df_large"
   ]
  },
  {
   "cell_type": "code",
   "execution_count": null,
   "metadata": {},
   "outputs": [],
   "source": [
    "df_small"
   ]
  },
  {
   "cell_type": "code",
   "execution_count": null,
   "metadata": {},
   "outputs": [],
   "source": []
  }
 ],
 "metadata": {
  "kernelspec": {
   "display_name": "nnunet_v1",
   "language": "python",
   "name": "python3"
  },
  "language_info": {
   "codemirror_mode": {
    "name": "ipython",
    "version": 3
   },
   "file_extension": ".py",
   "mimetype": "text/x-python",
   "name": "python",
   "nbconvert_exporter": "python",
   "pygments_lexer": "ipython3",
   "version": "3.9.21"
  }
 },
 "nbformat": 4,
 "nbformat_minor": 2
}
